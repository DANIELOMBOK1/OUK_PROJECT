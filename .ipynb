{
 "cells": [
  {
   "cell_type": "code",
   "execution_count": 2,
   "id": "544e4e46",
   "metadata": {},
   "outputs": [],
   "source": [
    "import pandas as pd\n",
    "import numpy as np\n",
    "import matplotlib.pyplot as plt\n",
    "import seaborn as sns"
   ]
  },
  {
   "cell_type": "code",
   "execution_count": 4,
   "id": "5acc6ab6",
   "metadata": {},
   "outputs": [
    {
     "data": {
      "text/html": [
       "<div>\n",
       "<style scoped>\n",
       "    .dataframe tbody tr th:only-of-type {\n",
       "        vertical-align: middle;\n",
       "    }\n",
       "\n",
       "    .dataframe tbody tr th {\n",
       "        vertical-align: top;\n",
       "    }\n",
       "\n",
       "    .dataframe thead th {\n",
       "        text-align: right;\n",
       "    }\n",
       "</style>\n",
       "<table border=\"1\" class=\"dataframe\">\n",
       "  <thead>\n",
       "    <tr style=\"text-align: right;\">\n",
       "      <th></th>\n",
       "      <th>SCHOOL</th>\n",
       "      <th>GENDER</th>\n",
       "      <th>EXAM_YEAR</th>\n",
       "      <th>SUB-COUNTY</th>\n",
       "      <th>COUNTY</th>\n",
       "      <th>GRADE</th>\n",
       "    </tr>\n",
       "  </thead>\n",
       "  <tbody>\n",
       "    <tr>\n",
       "      <th>0</th>\n",
       "      <td>Malele_Mixed</td>\n",
       "      <td>MALE</td>\n",
       "      <td>2024</td>\n",
       "      <td>Wagai</td>\n",
       "      <td>siaya</td>\n",
       "      <td>B+</td>\n",
       "    </tr>\n",
       "    <tr>\n",
       "      <th>1</th>\n",
       "      <td>Malele_Mixed</td>\n",
       "      <td>MALE</td>\n",
       "      <td>2024</td>\n",
       "      <td>Wagai</td>\n",
       "      <td>siaya</td>\n",
       "      <td>A</td>\n",
       "    </tr>\n",
       "    <tr>\n",
       "      <th>2</th>\n",
       "      <td>Malele_Mixed</td>\n",
       "      <td>MALE</td>\n",
       "      <td>2024</td>\n",
       "      <td>Wagai</td>\n",
       "      <td>siaya</td>\n",
       "      <td>C-</td>\n",
       "    </tr>\n",
       "    <tr>\n",
       "      <th>3</th>\n",
       "      <td>Malele_Mixed</td>\n",
       "      <td>MALE</td>\n",
       "      <td>2024</td>\n",
       "      <td>Wagai</td>\n",
       "      <td>siaya</td>\n",
       "      <td>B-</td>\n",
       "    </tr>\n",
       "    <tr>\n",
       "      <th>4</th>\n",
       "      <td>Malele_Mixed</td>\n",
       "      <td>FEMALE</td>\n",
       "      <td>2024</td>\n",
       "      <td>Wagai</td>\n",
       "      <td>siaya</td>\n",
       "      <td>D+</td>\n",
       "    </tr>\n",
       "    <tr>\n",
       "      <th>...</th>\n",
       "      <td>...</td>\n",
       "      <td>...</td>\n",
       "      <td>...</td>\n",
       "      <td>...</td>\n",
       "      <td>...</td>\n",
       "      <td>...</td>\n",
       "    </tr>\n",
       "    <tr>\n",
       "      <th>995</th>\n",
       "      <td>Budokomi_Mixed</td>\n",
       "      <td>Female</td>\n",
       "      <td>2024</td>\n",
       "      <td>Busia</td>\n",
       "      <td>Busia</td>\n",
       "      <td>E</td>\n",
       "    </tr>\n",
       "    <tr>\n",
       "      <th>996</th>\n",
       "      <td>Budokomi_Mixed</td>\n",
       "      <td>Female</td>\n",
       "      <td>2024</td>\n",
       "      <td>Busia</td>\n",
       "      <td>Busia</td>\n",
       "      <td>E</td>\n",
       "    </tr>\n",
       "    <tr>\n",
       "      <th>997</th>\n",
       "      <td>Budokomi_Mixed</td>\n",
       "      <td>Female</td>\n",
       "      <td>2024</td>\n",
       "      <td>Busia</td>\n",
       "      <td>Busia</td>\n",
       "      <td>E</td>\n",
       "    </tr>\n",
       "    <tr>\n",
       "      <th>998</th>\n",
       "      <td>Budokomi_Mixed</td>\n",
       "      <td>Female</td>\n",
       "      <td>2024</td>\n",
       "      <td>Busia</td>\n",
       "      <td>Busia</td>\n",
       "      <td>D-</td>\n",
       "    </tr>\n",
       "    <tr>\n",
       "      <th>999</th>\n",
       "      <td>Budokomi_Mixed</td>\n",
       "      <td>Female</td>\n",
       "      <td>2024</td>\n",
       "      <td>Busia</td>\n",
       "      <td>Busia</td>\n",
       "      <td>D-</td>\n",
       "    </tr>\n",
       "  </tbody>\n",
       "</table>\n",
       "<p>1000 rows × 6 columns</p>\n",
       "</div>"
      ],
      "text/plain": [
       "             SCHOOL  GENDER  EXAM_YEAR SUB-COUNTY COUNTY GRADE\n",
       "0      Malele_Mixed    MALE       2024      Wagai  siaya    B+\n",
       "1      Malele_Mixed    MALE       2024      Wagai  siaya     A\n",
       "2      Malele_Mixed    MALE       2024      Wagai  siaya    C-\n",
       "3      Malele_Mixed    MALE       2024      Wagai  siaya    B-\n",
       "4      Malele_Mixed  FEMALE       2024      Wagai  siaya    D+\n",
       "..              ...     ...        ...        ...    ...   ...\n",
       "995  Budokomi_Mixed  Female       2024      Busia  Busia     E\n",
       "996  Budokomi_Mixed  Female       2024      Busia  Busia     E\n",
       "997  Budokomi_Mixed  Female       2024      Busia  Busia     E\n",
       "998  Budokomi_Mixed  Female       2024      Busia  Busia    D-\n",
       "999  Budokomi_Mixed  Female       2024      Busia  Busia    D-\n",
       "\n",
       "[1000 rows x 6 columns]"
      ]
     },
     "execution_count": 4,
     "metadata": {},
     "output_type": "execute_result"
    }
   ],
   "source": [
    "#import kcse data\n",
    "kcse=pd.read_csv(\"kcse_data1.csv\")\n",
    "kcse.head(1000)"
   ]
  },
  {
   "cell_type": "code",
   "execution_count": 5,
   "id": "4070b915",
   "metadata": {},
   "outputs": [],
   "source": [
    "# kcse grades points\n",
    "grades_points={'A':12,'A-':11,'B+':10,'B':9,'B-':8,'C+':7,'C':6,'C-':5,'D+':4,'D':3,'D-':2,'E':1}"
   ]
  },
  {
   "cell_type": "markdown",
   "id": "b9e16e6d",
   "metadata": {},
   "source": [
    "### Introducing Grade points column\n"
   ]
  },
  {
   "cell_type": "code",
   "execution_count": 7,
   "id": "9a5eebec",
   "metadata": {},
   "outputs": [
    {
     "data": {
      "text/html": [
       "<div>\n",
       "<style scoped>\n",
       "    .dataframe tbody tr th:only-of-type {\n",
       "        vertical-align: middle;\n",
       "    }\n",
       "\n",
       "    .dataframe tbody tr th {\n",
       "        vertical-align: top;\n",
       "    }\n",
       "\n",
       "    .dataframe thead th {\n",
       "        text-align: right;\n",
       "    }\n",
       "</style>\n",
       "<table border=\"1\" class=\"dataframe\">\n",
       "  <thead>\n",
       "    <tr style=\"text-align: right;\">\n",
       "      <th></th>\n",
       "      <th>SCHOOL</th>\n",
       "      <th>GENDER</th>\n",
       "      <th>EXAM_YEAR</th>\n",
       "      <th>SUB-COUNTY</th>\n",
       "      <th>COUNTY</th>\n",
       "      <th>GRADE</th>\n",
       "      <th>GRADE_POINTS</th>\n",
       "    </tr>\n",
       "  </thead>\n",
       "  <tbody>\n",
       "    <tr>\n",
       "      <th>0</th>\n",
       "      <td>Malele_Mixed</td>\n",
       "      <td>MALE</td>\n",
       "      <td>2024</td>\n",
       "      <td>Wagai</td>\n",
       "      <td>siaya</td>\n",
       "      <td>B+</td>\n",
       "      <td>10.0</td>\n",
       "    </tr>\n",
       "    <tr>\n",
       "      <th>1</th>\n",
       "      <td>Malele_Mixed</td>\n",
       "      <td>MALE</td>\n",
       "      <td>2024</td>\n",
       "      <td>Wagai</td>\n",
       "      <td>siaya</td>\n",
       "      <td>A</td>\n",
       "      <td>12.0</td>\n",
       "    </tr>\n",
       "    <tr>\n",
       "      <th>2</th>\n",
       "      <td>Malele_Mixed</td>\n",
       "      <td>MALE</td>\n",
       "      <td>2024</td>\n",
       "      <td>Wagai</td>\n",
       "      <td>siaya</td>\n",
       "      <td>C-</td>\n",
       "      <td>5.0</td>\n",
       "    </tr>\n",
       "    <tr>\n",
       "      <th>3</th>\n",
       "      <td>Malele_Mixed</td>\n",
       "      <td>MALE</td>\n",
       "      <td>2024</td>\n",
       "      <td>Wagai</td>\n",
       "      <td>siaya</td>\n",
       "      <td>B-</td>\n",
       "      <td>8.0</td>\n",
       "    </tr>\n",
       "    <tr>\n",
       "      <th>4</th>\n",
       "      <td>Malele_Mixed</td>\n",
       "      <td>FEMALE</td>\n",
       "      <td>2024</td>\n",
       "      <td>Wagai</td>\n",
       "      <td>siaya</td>\n",
       "      <td>D+</td>\n",
       "      <td>4.0</td>\n",
       "    </tr>\n",
       "  </tbody>\n",
       "</table>\n",
       "</div>"
      ],
      "text/plain": [
       "         SCHOOL  GENDER  EXAM_YEAR SUB-COUNTY COUNTY GRADE  GRADE_POINTS\n",
       "0  Malele_Mixed    MALE       2024      Wagai  siaya    B+          10.0\n",
       "1  Malele_Mixed    MALE       2024      Wagai  siaya     A          12.0\n",
       "2  Malele_Mixed    MALE       2024      Wagai  siaya    C-           5.0\n",
       "3  Malele_Mixed    MALE       2024      Wagai  siaya    B-           8.0\n",
       "4  Malele_Mixed  FEMALE       2024      Wagai  siaya    D+           4.0"
      ]
     },
     "execution_count": 7,
     "metadata": {},
     "output_type": "execute_result"
    }
   ],
   "source": [
    "kcse[\"GRADE_POINTS\"]=kcse[\"GRADE\"].map(grades_points)\n",
    "kcse.head()"
   ]
  },
  {
   "cell_type": "markdown",
   "id": "0a5932bf",
   "metadata": {},
   "source": [
    "#### Data pre-processing\n"
   ]
  },
  {
   "cell_type": "code",
   "execution_count": 8,
   "id": "2e49a3b7",
   "metadata": {},
   "outputs": [],
   "source": [
    "# change EXAM_YEAR column to string\n",
    "kcse[\"EXAM_YEAR\"]=kcse[\"EXAM_YEAR\"].astype(str)"
   ]
  },
  {
   "cell_type": "code",
   "execution_count": 9,
   "id": "649f1a0e",
   "metadata": {},
   "outputs": [
    {
     "data": {
      "text/html": [
       "<div>\n",
       "<style scoped>\n",
       "    .dataframe tbody tr th:only-of-type {\n",
       "        vertical-align: middle;\n",
       "    }\n",
       "\n",
       "    .dataframe tbody tr th {\n",
       "        vertical-align: top;\n",
       "    }\n",
       "\n",
       "    .dataframe thead th {\n",
       "        text-align: right;\n",
       "    }\n",
       "</style>\n",
       "<table border=\"1\" class=\"dataframe\">\n",
       "  <thead>\n",
       "    <tr style=\"text-align: right;\">\n",
       "      <th></th>\n",
       "      <th>GRADE_POINTS</th>\n",
       "    </tr>\n",
       "  </thead>\n",
       "  <tbody>\n",
       "    <tr>\n",
       "      <th>count</th>\n",
       "      <td>1698.000000</td>\n",
       "    </tr>\n",
       "    <tr>\n",
       "      <th>mean</th>\n",
       "      <td>2.227915</td>\n",
       "    </tr>\n",
       "    <tr>\n",
       "      <th>std</th>\n",
       "      <td>1.761702</td>\n",
       "    </tr>\n",
       "    <tr>\n",
       "      <th>min</th>\n",
       "      <td>1.000000</td>\n",
       "    </tr>\n",
       "    <tr>\n",
       "      <th>25%</th>\n",
       "      <td>1.000000</td>\n",
       "    </tr>\n",
       "    <tr>\n",
       "      <th>50%</th>\n",
       "      <td>2.000000</td>\n",
       "    </tr>\n",
       "    <tr>\n",
       "      <th>75%</th>\n",
       "      <td>3.000000</td>\n",
       "    </tr>\n",
       "    <tr>\n",
       "      <th>max</th>\n",
       "      <td>12.000000</td>\n",
       "    </tr>\n",
       "  </tbody>\n",
       "</table>\n",
       "</div>"
      ],
      "text/plain": [
       "       GRADE_POINTS\n",
       "count   1698.000000\n",
       "mean       2.227915\n",
       "std        1.761702\n",
       "min        1.000000\n",
       "25%        1.000000\n",
       "50%        2.000000\n",
       "75%        3.000000\n",
       "max       12.000000"
      ]
     },
     "execution_count": 9,
     "metadata": {},
     "output_type": "execute_result"
    }
   ],
   "source": [
    "# change grade_points to integers\n",
    "kcse.describe()"
   ]
  },
  {
   "cell_type": "code",
   "execution_count": 10,
   "id": "62b1ec3f",
   "metadata": {},
   "outputs": [
    {
     "name": "stdout",
     "output_type": "stream",
     "text": [
      "<class 'pandas.core.frame.DataFrame'>\n",
      "RangeIndex: 1700 entries, 0 to 1699\n",
      "Data columns (total 7 columns):\n",
      " #   Column        Non-Null Count  Dtype  \n",
      "---  ------        --------------  -----  \n",
      " 0   SCHOOL        1700 non-null   object \n",
      " 1   GENDER        1700 non-null   object \n",
      " 2   EXAM_YEAR     1700 non-null   object \n",
      " 3   SUB-COUNTY    1700 non-null   object \n",
      " 4   COUNTY        1700 non-null   object \n",
      " 5   GRADE         1699 non-null   object \n",
      " 6   GRADE_POINTS  1698 non-null   float64\n",
      "dtypes: float64(1), object(6)\n",
      "memory usage: 93.1+ KB\n"
     ]
    }
   ],
   "source": [
    "kcse.head()\n",
    "kcse.info()"
   ]
  },
  {
   "cell_type": "markdown",
   "id": "51755dce",
   "metadata": {},
   "source": [
    "#### Performing EDA "
   ]
  },
  {
   "cell_type": "markdown",
   "id": "d0c872e0",
   "metadata": {},
   "source": [
    "### calculate school means per year\n"
   ]
  },
  {
   "cell_type": "markdown",
   "id": "dd45c583",
   "metadata": {},
   "source": [
    "#### MALELE_MIXED\n"
   ]
  },
  {
   "cell_type": "markdown",
   "id": "1dd8db34",
   "metadata": {},
   "source": [
    "### MEAN_2024\n"
   ]
  },
  {
   "cell_type": "code",
   "execution_count": 24,
   "id": "f8033d7e",
   "metadata": {},
   "outputs": [],
   "source": [
    "# filter malele 2024\n",
    "Malele_2024=kcse[(kcse['EXAM_YEAR']=='2024') &(kcse['SCHOOL']=='Malele_Mixed')]\n"
   ]
  },
  {
   "cell_type": "code",
   "execution_count": 25,
   "id": "309a2516",
   "metadata": {},
   "outputs": [
    {
     "name": "stdout",
     "output_type": "stream",
     "text": [
      "           SCHOOL  GENDER EXAM_YEAR SUB-COUNTY COUNTY GRADE  GRADE_POINTS\n",
      "0    Malele_Mixed    MALE      2024      Wagai  siaya    B+          10.0\n",
      "1    Malele_Mixed    MALE      2024      Wagai  siaya     A          12.0\n",
      "2    Malele_Mixed    MALE      2024      Wagai  siaya    C-           5.0\n",
      "3    Malele_Mixed    MALE      2024      Wagai  siaya    B-           8.0\n",
      "4    Malele_Mixed  FEMALE      2024      Wagai  siaya    D+           4.0\n",
      "..            ...     ...       ...        ...    ...   ...           ...\n",
      "105  Malele_Mixed  FEMALE      2024      Wagai  siaya     E           1.0\n",
      "106  Malele_Mixed    MALE      2024      Wagai  siaya    D-           2.0\n",
      "107  Malele_Mixed  FEMALE      2024      Wagai  siaya     E           1.0\n",
      "108  Malele_Mixed  FEMALE      2024      Wagai  siaya    D-           2.0\n",
      "109  Malele_Mixed  FEMALE      2024      Wagai  siaya     E           1.0\n",
      "\n",
      "[110 rows x 7 columns]\n"
     ]
    }
   ],
   "source": [
    "# mean malele_2024\n",
    "print(Malele_2024)"
   ]
  },
  {
   "cell_type": "code",
   "execution_count": 26,
   "id": "aa20e90e",
   "metadata": {},
   "outputs": [
    {
     "name": "stdout",
     "output_type": "stream",
     "text": [
      "2.6454545454545455\n"
     ]
    }
   ],
   "source": [
    "# malele_2024 mean\n",
    "print(Malele_2024['GRADE_POINTS'].mean())"
   ]
  },
  {
   "cell_type": "markdown",
   "id": "50d73b30",
   "metadata": {},
   "source": [
    "### mean_2023\n"
   ]
  },
  {
   "cell_type": "code",
   "execution_count": 27,
   "id": "d3968e90",
   "metadata": {},
   "outputs": [
    {
     "name": "stdout",
     "output_type": "stream",
     "text": [
      "           SCHOOL  GENDER EXAM_YEAR SUB-COUNTY COUNTY GRADE  GRADE_POINTS\n",
      "110  Malele_Mixed    MALE      2023      Wagai  siaya     A          12.0\n",
      "111  Malele_Mixed    MALE      2023      Wagai  siaya    B+          10.0\n",
      "112  Malele_Mixed    MALE      2023      Wagai  siaya    D+           4.0\n",
      "113  Malele_Mixed    MALE      2023      Wagai  siaya    C+           7.0\n",
      "114  Malele_Mixed    MALE      2023      Wagai  siaya    B-           8.0\n",
      "..            ...     ...       ...        ...    ...   ...           ...\n",
      "201  Malele_Mixed  FEMALE      2023      Wagai  siaya     E           1.0\n",
      "202  Malele_Mixed    MALE      2023      Wagai  siaya     E           1.0\n",
      "203  Malele_Mixed    MALE      2023      Wagai  siaya     E           1.0\n",
      "204  Malele_Mixed  FEMALE      2023      Wagai  siaya     E           1.0\n",
      "205  Malele_Mixed    MALE      2023      Wagai  siaya     E           1.0\n",
      "\n",
      "[96 rows x 7 columns]\n"
     ]
    }
   ],
   "source": [
    "Malele_2023=kcse[(kcse['SCHOOL']=='Malele_Mixed') &(kcse['EXAM_YEAR']=='2023')]\n",
    "print(Malele_2023)"
   ]
  },
  {
   "cell_type": "code",
   "execution_count": 28,
   "id": "d466922d",
   "metadata": {},
   "outputs": [
    {
     "data": {
      "text/html": [
       "<div>\n",
       "<style scoped>\n",
       "    .dataframe tbody tr th:only-of-type {\n",
       "        vertical-align: middle;\n",
       "    }\n",
       "\n",
       "    .dataframe tbody tr th {\n",
       "        vertical-align: top;\n",
       "    }\n",
       "\n",
       "    .dataframe thead th {\n",
       "        text-align: right;\n",
       "    }\n",
       "</style>\n",
       "<table border=\"1\" class=\"dataframe\">\n",
       "  <thead>\n",
       "    <tr style=\"text-align: right;\">\n",
       "      <th></th>\n",
       "      <th>GRADE_POINTS</th>\n",
       "    </tr>\n",
       "  </thead>\n",
       "  <tbody>\n",
       "    <tr>\n",
       "      <th>count</th>\n",
       "      <td>96.000000</td>\n",
       "    </tr>\n",
       "    <tr>\n",
       "      <th>mean</th>\n",
       "      <td>2.031250</td>\n",
       "    </tr>\n",
       "    <tr>\n",
       "      <th>std</th>\n",
       "      <td>1.943698</td>\n",
       "    </tr>\n",
       "    <tr>\n",
       "      <th>min</th>\n",
       "      <td>1.000000</td>\n",
       "    </tr>\n",
       "    <tr>\n",
       "      <th>25%</th>\n",
       "      <td>1.000000</td>\n",
       "    </tr>\n",
       "    <tr>\n",
       "      <th>50%</th>\n",
       "      <td>1.000000</td>\n",
       "    </tr>\n",
       "    <tr>\n",
       "      <th>75%</th>\n",
       "      <td>2.000000</td>\n",
       "    </tr>\n",
       "    <tr>\n",
       "      <th>max</th>\n",
       "      <td>12.000000</td>\n",
       "    </tr>\n",
       "  </tbody>\n",
       "</table>\n",
       "</div>"
      ],
      "text/plain": [
       "       GRADE_POINTS\n",
       "count     96.000000\n",
       "mean       2.031250\n",
       "std        1.943698\n",
       "min        1.000000\n",
       "25%        1.000000\n",
       "50%        1.000000\n",
       "75%        2.000000\n",
       "max       12.000000"
      ]
     },
     "execution_count": 28,
     "metadata": {},
     "output_type": "execute_result"
    }
   ],
   "source": [
    "Malele_2023.describe()"
   ]
  },
  {
   "cell_type": "code",
   "execution_count": 29,
   "id": "fa53fd94",
   "metadata": {},
   "outputs": [
    {
     "data": {
      "text/html": [
       "<div>\n",
       "<style scoped>\n",
       "    .dataframe tbody tr th:only-of-type {\n",
       "        vertical-align: middle;\n",
       "    }\n",
       "\n",
       "    .dataframe tbody tr th {\n",
       "        vertical-align: top;\n",
       "    }\n",
       "\n",
       "    .dataframe thead th {\n",
       "        text-align: right;\n",
       "    }\n",
       "</style>\n",
       "<table border=\"1\" class=\"dataframe\">\n",
       "  <thead>\n",
       "    <tr style=\"text-align: right;\">\n",
       "      <th></th>\n",
       "      <th>GRADE_POINTS</th>\n",
       "    </tr>\n",
       "  </thead>\n",
       "  <tbody>\n",
       "    <tr>\n",
       "      <th>count</th>\n",
       "      <td>110.000000</td>\n",
       "    </tr>\n",
       "    <tr>\n",
       "      <th>mean</th>\n",
       "      <td>2.645455</td>\n",
       "    </tr>\n",
       "    <tr>\n",
       "      <th>std</th>\n",
       "      <td>1.988897</td>\n",
       "    </tr>\n",
       "    <tr>\n",
       "      <th>min</th>\n",
       "      <td>1.000000</td>\n",
       "    </tr>\n",
       "    <tr>\n",
       "      <th>25%</th>\n",
       "      <td>1.000000</td>\n",
       "    </tr>\n",
       "    <tr>\n",
       "      <th>50%</th>\n",
       "      <td>2.000000</td>\n",
       "    </tr>\n",
       "    <tr>\n",
       "      <th>75%</th>\n",
       "      <td>3.000000</td>\n",
       "    </tr>\n",
       "    <tr>\n",
       "      <th>max</th>\n",
       "      <td>12.000000</td>\n",
       "    </tr>\n",
       "  </tbody>\n",
       "</table>\n",
       "</div>"
      ],
      "text/plain": [
       "       GRADE_POINTS\n",
       "count    110.000000\n",
       "mean       2.645455\n",
       "std        1.988897\n",
       "min        1.000000\n",
       "25%        1.000000\n",
       "50%        2.000000\n",
       "75%        3.000000\n",
       "max       12.000000"
      ]
     },
     "execution_count": 29,
     "metadata": {},
     "output_type": "execute_result"
    }
   ],
   "source": [
    "Malele_2024.describe()"
   ]
  },
  {
   "cell_type": "markdown",
   "id": "225e1319",
   "metadata": {},
   "source": [
    "### Malele_2022"
   ]
  },
  {
   "cell_type": "code",
   "execution_count": 30,
   "id": "b03fdb12",
   "metadata": {},
   "outputs": [
    {
     "name": "stdout",
     "output_type": "stream",
     "text": [
      "           SCHOOL  GENDER EXAM_YEAR SUB-COUNTY COUNTY GRADE  GRADE_POINTS\n",
      "206  Malele_Mixed    MALE      2022      Wagai  siaya    C+           7.0\n",
      "207  Malele_Mixed    MALE      2022      Wagai  siaya     C           6.0\n",
      "208  Malele_Mixed  FEMALE      2022      Wagai  siaya     D           3.0\n",
      "209  Malele_Mixed  FEMALE      2022      Wagai  siaya     D           3.0\n",
      "210  Malele_Mixed  FEMALE      2022      Wagai  siaya     D           3.0\n",
      "..            ...     ...       ...        ...    ...   ...           ...\n",
      "338  Malele_Mixed  FEMALE      2022      Wagai  siaya     E           1.0\n",
      "339  Malele_Mixed    MALE      2022      Wagai  siaya     E           1.0\n",
      "340  Malele_Mixed    MALE      2022      Wagai  siaya     E           1.0\n",
      "341  Malele_Mixed  FEMALE      2022      Wagai  siaya     E           1.0\n",
      "342  Malele_Mixed    MALE      2022      Wagai  siaya     E           1.0\n",
      "\n",
      "[137 rows x 7 columns]\n"
     ]
    }
   ],
   "source": [
    "# malele 2022\n",
    "Malele_2022=kcse[(kcse['SCHOOL']=='Malele_Mixed') &(kcse['EXAM_YEAR']=='2022')]\n",
    "print(Malele_2022)"
   ]
  },
  {
   "cell_type": "code",
   "execution_count": 31,
   "id": "f1e7afb1",
   "metadata": {},
   "outputs": [
    {
     "data": {
      "text/html": [
       "<div>\n",
       "<style scoped>\n",
       "    .dataframe tbody tr th:only-of-type {\n",
       "        vertical-align: middle;\n",
       "    }\n",
       "\n",
       "    .dataframe tbody tr th {\n",
       "        vertical-align: top;\n",
       "    }\n",
       "\n",
       "    .dataframe thead th {\n",
       "        text-align: right;\n",
       "    }\n",
       "</style>\n",
       "<table border=\"1\" class=\"dataframe\">\n",
       "  <thead>\n",
       "    <tr style=\"text-align: right;\">\n",
       "      <th></th>\n",
       "      <th>GRADE_POINTS</th>\n",
       "    </tr>\n",
       "  </thead>\n",
       "  <tbody>\n",
       "    <tr>\n",
       "      <th>count</th>\n",
       "      <td>137.000000</td>\n",
       "    </tr>\n",
       "    <tr>\n",
       "      <th>mean</th>\n",
       "      <td>1.598540</td>\n",
       "    </tr>\n",
       "    <tr>\n",
       "      <th>std</th>\n",
       "      <td>1.087765</td>\n",
       "    </tr>\n",
       "    <tr>\n",
       "      <th>min</th>\n",
       "      <td>1.000000</td>\n",
       "    </tr>\n",
       "    <tr>\n",
       "      <th>25%</th>\n",
       "      <td>1.000000</td>\n",
       "    </tr>\n",
       "    <tr>\n",
       "      <th>50%</th>\n",
       "      <td>1.000000</td>\n",
       "    </tr>\n",
       "    <tr>\n",
       "      <th>75%</th>\n",
       "      <td>2.000000</td>\n",
       "    </tr>\n",
       "    <tr>\n",
       "      <th>max</th>\n",
       "      <td>7.000000</td>\n",
       "    </tr>\n",
       "  </tbody>\n",
       "</table>\n",
       "</div>"
      ],
      "text/plain": [
       "       GRADE_POINTS\n",
       "count    137.000000\n",
       "mean       1.598540\n",
       "std        1.087765\n",
       "min        1.000000\n",
       "25%        1.000000\n",
       "50%        1.000000\n",
       "75%        2.000000\n",
       "max        7.000000"
      ]
     },
     "execution_count": 31,
     "metadata": {},
     "output_type": "execute_result"
    }
   ],
   "source": [
    "Malele_2022.describe()\n"
   ]
  },
  {
   "cell_type": "code",
   "execution_count": 33,
   "id": "cd35ed72",
   "metadata": {},
   "outputs": [
    {
     "name": "stdout",
     "output_type": "stream",
     "text": [
      "1.5985401459854014\n"
     ]
    }
   ],
   "source": [
    "print(Malele_2022['GRADE_POINTS'].mean())"
   ]
  },
  {
   "cell_type": "code",
   "execution_count": 34,
   "id": "051d823c",
   "metadata": {},
   "outputs": [
    {
     "data": {
      "image/png": "[encoded data removed]",
      "text/plain": [
       "<Figure size 640x480 with 1 Axes>"
      ]
     },
     "metadata": {},
     "output_type": "display_data"
    }
   ],
   "source": [
    "# Calculate means\n",
    "mean_2022 = Malele_2022['GRADE_POINTS'].mean()\n",
    "mean_2023 = Malele_2023['GRADE_POINTS'].mean()\n",
    "mean_2024 = Malele_2024['GRADE_POINTS'].mean()\n",
    "\n",
    "# Define x and y values\n",
    "years = [2022, 2023, 2024]\n",
    "means = [mean_2022, mean_2023, mean_2024]\n",
    "\n",
    "# Plot bar chart\n",
    "plt.bar(years, means, color='mediumseagreen')\n",
    "plt.title(\"Malele Mixed - Mean KCSE Grade Points (2022–2024)\")\n",
    "plt.xlabel(\"Year\")\n",
    "plt.ylabel(\"Mean Grade Points\")\n",
    "plt.ylim(0, 12)  # Adjust if needed\n",
    "plt.xticks(years)\n",
    "plt.grid(axis='y', linestyle='--', alpha=0.6)\n",
    "\n",
    "# Show the plot\n",
    "plt.tight_layout()\n",
    "plt.show()"
   ]
  },
  {
   "cell_type": "code",
   "execution_count": 12,
   "id": "a4bba3de",
   "metadata": {},
   "outputs": [
    {
     "name": "stdout",
     "output_type": "stream",
     "text": [
      "             SCHOOL  GENDER EXAM_YEAR SUB-COUNTY  COUNTY GRADE  GRADE_POINTS\n",
      "1311  Magunga_Mixed    MALE      2024    Nyakach  Kisumu    B+          10.0\n",
      "1312  Magunga_Mixed    MALE      2024    Nyakach  Kisumu    B-           8.0\n",
      "1313  Magunga_Mixed    MALE      2024    Nyakach  Kisumu    B-           8.0\n",
      "1314  Magunga_Mixed    MALE      2024    Nyakach  Kisumu    B-           8.0\n",
      "1315  Magunga_Mixed    MALE      2024    Nyakach  Kisumu    B-           8.0\n",
      "...             ...     ...       ...        ...     ...   ...           ...\n",
      "1695  Magunga_Mixed  FEMALE      2024    Nyakach  Kisumu     E           1.0\n",
      "1696  Magunga_Mixed  FEMALE      2024    Nyakach  Kisumu     E           1.0\n",
      "1697  Magunga_Mixed  FEMALE      2024    Nyakach  Kisumu     E           1.0\n",
      "1698  Magunga_Mixed  FEMALE      2024    Nyakach  Kisumu     E           1.0\n",
      "1699  Magunga_Mixed  FEMALE      2024    Nyakach  Kisumu     E           1.0\n",
      "\n",
      "[389 rows x 7 columns]\n"
     ]
    }
   ],
   "source": [
    "Magunga_2024=kcse[(kcse['EXAM_YEAR']=='2024') &(kcse['SCHOOL']=='Magunga_Mixed')]\n",
    "print(Magunga_2024)"
   ]
  }
 ],
 "metadata": {
  "kernelspec": {
   "display_name": "Python 3",
   "language": "python",
   "name": "python3"
  },
  "language_info": {
   "codemirror_mode": {
    "name": "ipython",
    "version": 3
   },
   "file_extension": ".py",
   "mimetype": "text/x-python",
   "name": "python",
   "nbconvert_exporter": "python",
   "pygments_lexer": "ipython3",
   "version": "3.13.5"
  }
 },
 "nbformat": 4,
 "nbformat_minor": 5
}
