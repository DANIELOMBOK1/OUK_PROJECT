{
 "cells": [
  {
   "cell_type": "markdown",
   "id": "debcac70",
   "metadata": {},
   "source": [
    "## correlation"
   ]
  },
  {
   "cell_type": "code",
   "execution_count": 4,
   "id": "7b0ad6f5",
   "metadata": {},
   "outputs": [
    {
     "data": {
      "text/html": [
       "<div>\n",
       "<style scoped>\n",
       "    .dataframe tbody tr th:only-of-type {\n",
       "        vertical-align: middle;\n",
       "    }\n",
       "\n",
       "    .dataframe tbody tr th {\n",
       "        vertical-align: top;\n",
       "    }\n",
       "\n",
       "    .dataframe thead th {\n",
       "        text-align: right;\n",
       "    }\n",
       "</style>\n",
       "<table border=\"1\" class=\"dataframe\">\n",
       "  <thead>\n",
       "    <tr style=\"text-align: right;\">\n",
       "      <th></th>\n",
       "      <th>SCHOOL</th>\n",
       "      <th>GRADE_POINTS</th>\n",
       "      <th>Attitude</th>\n",
       "      <th>Availability of learning materials</th>\n",
       "      <th>IN-SERVICE TRAINING</th>\n",
       "    </tr>\n",
       "  </thead>\n",
       "  <tbody>\n",
       "    <tr>\n",
       "      <th>0</th>\n",
       "      <td>Budokomi_Mixed</td>\n",
       "      <td>2.143836</td>\n",
       "      <td>4.022857</td>\n",
       "      <td>4.147143</td>\n",
       "      <td>3.800</td>\n",
       "    </tr>\n",
       "    <tr>\n",
       "      <th>1</th>\n",
       "      <td>Kaudha_Mixed</td>\n",
       "      <td>2.227907</td>\n",
       "      <td>3.885340</td>\n",
       "      <td>3.134722</td>\n",
       "      <td>4.475</td>\n",
       "    </tr>\n",
       "    <tr>\n",
       "      <th>2</th>\n",
       "      <td>Magunga_Mixed</td>\n",
       "      <td>2.804627</td>\n",
       "      <td>3.657143</td>\n",
       "      <td>3.142857</td>\n",
       "      <td>3.600</td>\n",
       "    </tr>\n",
       "    <tr>\n",
       "      <th>3</th>\n",
       "      <td>Malele_Mixed</td>\n",
       "      <td>2.055394</td>\n",
       "      <td>4.163483</td>\n",
       "      <td>2.959551</td>\n",
       "      <td>3.500</td>\n",
       "    </tr>\n",
       "    <tr>\n",
       "      <th>4</th>\n",
       "      <td>Nyalunya_Mixed</td>\n",
       "      <td>1.482353</td>\n",
       "      <td>3.587000</td>\n",
       "      <td>3.130000</td>\n",
       "      <td>2.850</td>\n",
       "    </tr>\n",
       "  </tbody>\n",
       "</table>\n",
       "</div>"
      ],
      "text/plain": [
       "           SCHOOL  GRADE_POINTS  Attitude  Availability of learning materials  \\\n",
       "0  Budokomi_Mixed      2.143836  4.022857                            4.147143   \n",
       "1    Kaudha_Mixed      2.227907  3.885340                            3.134722   \n",
       "2   Magunga_Mixed      2.804627  3.657143                            3.142857   \n",
       "3    Malele_Mixed      2.055394  4.163483                            2.959551   \n",
       "4  Nyalunya_Mixed      1.482353  3.587000                            3.130000   \n",
       "\n",
       "   IN-SERVICE TRAINING  \n",
       "0                3.800  \n",
       "1                4.475  \n",
       "2                3.600  \n",
       "3                3.500  \n",
       "4                2.850  "
      ]
     },
     "execution_count": 4,
     "metadata": {},
     "output_type": "execute_result"
    }
   ],
   "source": [
    "# import necessary libraries\n",
    "import pandas as pd\n",
    "import numpy as np\n",
    "import matplotlib.pyplot as plt\n",
    "import seaborn as sns\n",
    "import statsmodels.api as sm\n",
    "means_data=pd.read_csv(\"mean_data.csv\")\n",
    "means_data.head()\n"
   ]
  },
  {
   "cell_type": "markdown",
   "id": "8ec24d98",
   "metadata": {},
   "source": [
    "### Perform correlations"
   ]
  },
  {
   "cell_type": "markdown",
   "id": "a1e18b49",
   "metadata": {},
   "source": [
    "#### Correlation between Attitude and Performance"
   ]
  },
  {
   "cell_type": "code",
   "execution_count": 6,
   "id": "fe5692f1",
   "metadata": {},
   "outputs": [
    {
     "name": "stdout",
     "output_type": "stream",
     "text": [
      "0.25398145746610074\n"
     ]
    }
   ],
   "source": [
    "corr_Attitude=means_data[\"GRADE_POINTS\"].corr(means_data[\"Attitude\"])\n",
    "print(corr_Attitude)"
   ]
  },
  {
   "cell_type": "markdown",
   "id": "890a3360",
   "metadata": {},
   "source": [
    "#### Correlation between Availability of learning materials and Performance"
   ]
  },
  {
   "cell_type": "code",
   "execution_count": 7,
   "id": "81abb794",
   "metadata": {},
   "outputs": [
    {
     "name": "stdout",
     "output_type": "stream",
     "text": [
      "0.10237451049571203\n"
     ]
    }
   ],
   "source": [
    "corr_Materials=means_data[\"GRADE_POINTS\"].corr(means_data[\"Availability of learning materials\"])\n",
    "print(corr_Materials)"
   ]
  },
  {
   "cell_type": "markdown",
   "id": "78b2345d",
   "metadata": {},
   "source": [
    "#### Correlation between IN-SERVICE TRAINING and Performance"
   ]
  },
  {
   "cell_type": "code",
   "execution_count": 8,
   "id": "e2dd2b12",
   "metadata": {},
   "outputs": [
    {
     "name": "stdout",
     "output_type": "stream",
     "text": [
      "0.6343153137662414\n"
     ]
    }
   ],
   "source": [
    "corr_Inservice=means_data[\"GRADE_POINTS\"].corr(means_data[\"IN-SERVICE TRAINING\"])\n",
    "print(corr_Inservice)"
   ]
  },
  {
   "cell_type": "markdown",
   "id": "31950eff",
   "metadata": {},
   "source": [
    "### PERFORMING CORRELATION MATRIX"
   ]
  },
  {
   "cell_type": "code",
   "execution_count": 3,
   "id": "45ff057d",
   "metadata": {},
   "outputs": [
    {
     "data": {
      "text/plain": [
       "<Axes: >"
      ]
     },
     "execution_count": 3,
     "metadata": {},
     "output_type": "execute_result"
    },
    {
     "data": {
      "image/png": "[encoded data removed]",
      "text/plain": [
       "<Figure size 640x480 with 2 Axes>"
      ]
     },
     "metadata": {},
     "output_type": "display_data"
    }
   ],
   "source": [
    "# correlation matrix\n",
    "numerical_columns=means_data[[\"GRADE_POINTS\",\"Attitude\",\"Availability of learning materials\",\"IN-SERVICE TRAINING\"]]\n",
    "sns.heatmap(numerical_columns.corr(),annot=True,cmap=\"viridis\")"
   ]
  },
  {
   "cell_type": "markdown",
   "id": "4555ad4e",
   "metadata": {},
   "source": [
    "- ATTITUDE  HAS EVERY WEAK POSITIVE RELATIONSHIP WITH PERFORMANCE\n",
    "\n",
    "- Materials has very low relationship with performance \n",
    "\n",
    "- Teacher Training has got higher  positive impact on performance."
   ]
  },
  {
   "cell_type": "markdown",
   "id": "a0e3f248",
   "metadata": {},
   "source": [
    "### REGRESSION"
   ]
  },
  {
   "cell_type": "code",
   "execution_count": 5,
   "id": "70f8c8b8",
   "metadata": {},
   "outputs": [],
   "source": [
    "# define  model variables\n",
    "X=means_data[[\"Attitude\",\"Availability of learning materials\",\"IN-SERVICE TRAINING\"]]\n",
    "Y=means_data[\"GRADE_POINTS\"]\n",
    "# adding y_intercept\n",
    "X=sm.add_constant(X)\n",
    "model=sm.OLS(Y,X).fit()"
   ]
  },
  {
   "cell_type": "markdown",
   "id": "f971f87d",
   "metadata": {},
   "source": [
    "RESULT SUMMARY"
   ]
  },
  {
   "cell_type": "code",
   "execution_count": 6,
   "id": "2641e7d7",
   "metadata": {},
   "outputs": [
    {
     "name": "stdout",
     "output_type": "stream",
     "text": [
      "                            OLS Regression Results                            \n",
      "==============================================================================\n",
      "Dep. Variable:           GRADE_POINTS   R-squared:                       0.429\n",
      "Model:                            OLS   Adj. R-squared:                 -0.428\n",
      "Method:                 Least Squares   F-statistic:                    0.5003\n",
      "Date:                Tue, 05 Aug 2025   Prob (F-statistic):              0.719\n",
      "Time:                        13:53:49   Log-Likelihood:                -1.6842\n",
      "No. Observations:                   6   AIC:                             11.37\n",
      "Df Residuals:                       2   BIC:                             10.54\n",
      "Df Model:                           3                                         \n",
      "Covariance Type:            nonrobust                                         \n",
      "======================================================================================================\n",
      "                                         coef    std err          t      P>|t|      [0.025      0.975]\n",
      "------------------------------------------------------------------------------------------------------\n",
      "const                                  1.7824      4.059      0.439      0.703     -15.682      19.247\n",
      "Attitude                              -0.3569      1.249     -0.286      0.802      -5.731       5.017\n",
      "Availability of learning materials    -0.0284      0.599     -0.047      0.967      -2.605       2.548\n",
      "IN-SERVICE TRAINING                    0.5018      0.445      1.128      0.377      -1.413       2.416\n",
      "==============================================================================\n",
      "Omnibus:                          nan   Durbin-Watson:                   2.559\n",
      "Prob(Omnibus):                    nan   Jarque-Bera (JB):                0.582\n",
      "Skew:                           0.741   Prob(JB):                        0.747\n",
      "Kurtosis:                       2.636   Cond. No.                         115.\n",
      "==============================================================================\n",
      "\n",
      "Notes:\n",
      "[1] Standard Errors assume that the covariance matrix of the errors is correctly specified.\n"
     ]
    },
    {
     "name": "stderr",
     "output_type": "stream",
     "text": [
      "c:\\Users\\216\\AppData\\Local\\Programs\\Python\\Python313\\Lib\\site-packages\\statsmodels\\stats\\stattools.py:74: ValueWarning: omni_normtest is not valid with less than 8 observations; 6 samples were given.\n",
      "  warn(\"omni_normtest is not valid with less than 8 observations; %i \"\n"
     ]
    }
   ],
   "source": [
    "print(model.summary())"
   ]
  }
 ],
 "metadata": {
  "kernelspec": {
   "display_name": "Python 3",
   "language": "python",
   "name": "python3"
  },
  "language_info": {
   "codemirror_mode": {
    "name": "ipython",
    "version": 3
   },
   "file_extension": ".py",
   "mimetype": "text/x-python",
   "name": "python",
   "nbconvert_exporter": "python",
   "pygments_lexer": "ipython3",
   "version": "3.13.5"
  }
 },
 "nbformat": 4,
 "nbformat_minor": 5
}
