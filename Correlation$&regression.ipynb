{
 "cells": [
  {
   "cell_type": "markdown",
   "id": "debcac70",
   "metadata": {},
   "source": [
    "## correlation"
   ]
  },
  {
   "cell_type": "code",
   "execution_count": 17,
   "id": "7b0ad6f5",
   "metadata": {},
   "outputs": [
    {
     "data": {
      "text/html": [
       "<div>\n",
       "<style scoped>\n",
       "    .dataframe tbody tr th:only-of-type {\n",
       "        vertical-align: middle;\n",
       "    }\n",
       "\n",
       "    .dataframe tbody tr th {\n",
       "        vertical-align: top;\n",
       "    }\n",
       "\n",
       "    .dataframe thead th {\n",
       "        text-align: right;\n",
       "    }\n",
       "</style>\n",
       "<table border=\"1\" class=\"dataframe\">\n",
       "  <thead>\n",
       "    <tr style=\"text-align: right;\">\n",
       "      <th></th>\n",
       "      <th>SCHOOL</th>\n",
       "      <th>GRADE_POINTS</th>\n",
       "      <th>Attitude</th>\n",
       "      <th>Availability of learning materials</th>\n",
       "      <th>IN-SERVICE TRAINING</th>\n",
       "      <th>COUNTY</th>\n",
       "    </tr>\n",
       "  </thead>\n",
       "  <tbody>\n",
       "    <tr>\n",
       "      <th>0</th>\n",
       "      <td>Budokomi_Mixed</td>\n",
       "      <td>2.143836</td>\n",
       "      <td>1.687070</td>\n",
       "      <td>1.235119</td>\n",
       "      <td>1.588750</td>\n",
       "      <td>Busia</td>\n",
       "    </tr>\n",
       "    <tr>\n",
       "      <th>1</th>\n",
       "      <td>Kaudha_Mixed</td>\n",
       "      <td>2.227907</td>\n",
       "      <td>1.634772</td>\n",
       "      <td>1.727241</td>\n",
       "      <td>1.615507</td>\n",
       "      <td>Siaya</td>\n",
       "    </tr>\n",
       "    <tr>\n",
       "      <th>2</th>\n",
       "      <td>Magunga_Mixed</td>\n",
       "      <td>2.804627</td>\n",
       "      <td>2.304378</td>\n",
       "      <td>2.097824</td>\n",
       "      <td>1.891766</td>\n",
       "      <td>Kisumu</td>\n",
       "    </tr>\n",
       "    <tr>\n",
       "      <th>3</th>\n",
       "      <td>Malele_Mixed</td>\n",
       "      <td>2.055394</td>\n",
       "      <td>1.813752</td>\n",
       "      <td>1.373762</td>\n",
       "      <td>1.425017</td>\n",
       "      <td>Siaya</td>\n",
       "    </tr>\n",
       "    <tr>\n",
       "      <th>4</th>\n",
       "      <td>Nyalunya_Mixed</td>\n",
       "      <td>1.482353</td>\n",
       "      <td>1.000000</td>\n",
       "      <td>1.122335</td>\n",
       "      <td>1.000000</td>\n",
       "      <td>Siaya</td>\n",
       "    </tr>\n",
       "    <tr>\n",
       "      <th>5</th>\n",
       "      <td>Ojola_Mixed</td>\n",
       "      <td>1.666667</td>\n",
       "      <td>1.116935</td>\n",
       "      <td>1.369963</td>\n",
       "      <td>1.003307</td>\n",
       "      <td>Siaya</td>\n",
       "    </tr>\n",
       "    <tr>\n",
       "      <th>6</th>\n",
       "      <td>Rapogi_Mixed</td>\n",
       "      <td>2.699984</td>\n",
       "      <td>2.397708</td>\n",
       "      <td>2.268121</td>\n",
       "      <td>2.049608</td>\n",
       "      <td>Kisumu</td>\n",
       "    </tr>\n",
       "    <tr>\n",
       "      <th>7</th>\n",
       "      <td>Babadogo_Mixed</td>\n",
       "      <td>3.500000</td>\n",
       "      <td>2.946166</td>\n",
       "      <td>2.624836</td>\n",
       "      <td>2.873489</td>\n",
       "      <td>Nairobi</td>\n",
       "    </tr>\n",
       "    <tr>\n",
       "      <th>8</th>\n",
       "      <td>Lions_Mixed</td>\n",
       "      <td>5.984323</td>\n",
       "      <td>4.906105</td>\n",
       "      <td>4.938158</td>\n",
       "      <td>5.000000</td>\n",
       "      <td>Kisumu</td>\n",
       "    </tr>\n",
       "    <tr>\n",
       "      <th>9</th>\n",
       "      <td>Ndori_Mixed</td>\n",
       "      <td>2.509670</td>\n",
       "      <td>2.021283</td>\n",
       "      <td>1.979024</td>\n",
       "      <td>1.947687</td>\n",
       "      <td>Siaya</td>\n",
       "    </tr>\n",
       "    <tr>\n",
       "      <th>10</th>\n",
       "      <td>A.C.K Chang'ara_Mixed</td>\n",
       "      <td>2.200000</td>\n",
       "      <td>1.544946</td>\n",
       "      <td>1.832738</td>\n",
       "      <td>1.689139</td>\n",
       "      <td>Busia</td>\n",
       "    </tr>\n",
       "    <tr>\n",
       "      <th>11</th>\n",
       "      <td>St. Augustine_Mixed</td>\n",
       "      <td>3.700000</td>\n",
       "      <td>2.877233</td>\n",
       "      <td>2.874544</td>\n",
       "      <td>2.955490</td>\n",
       "      <td>Busia</td>\n",
       "    </tr>\n",
       "    <tr>\n",
       "      <th>12</th>\n",
       "      <td>St.Luke Odiado_ Mixed</td>\n",
       "      <td>2.500000</td>\n",
       "      <td>1.952572</td>\n",
       "      <td>1.867047</td>\n",
       "      <td>1.520425</td>\n",
       "      <td>Busia</td>\n",
       "    </tr>\n",
       "    <tr>\n",
       "      <th>13</th>\n",
       "      <td>Hakati_Mixed</td>\n",
       "      <td>3.400000</td>\n",
       "      <td>2.321173</td>\n",
       "      <td>2.482562</td>\n",
       "      <td>2.698526</td>\n",
       "      <td>Busia</td>\n",
       "    </tr>\n",
       "    <tr>\n",
       "      <th>14</th>\n",
       "      <td>St. Aterait_ Mixed</td>\n",
       "      <td>2.700000</td>\n",
       "      <td>1.736896</td>\n",
       "      <td>1.842638</td>\n",
       "      <td>2.093925</td>\n",
       "      <td>Busia</td>\n",
       "    </tr>\n",
       "    <tr>\n",
       "      <th>15</th>\n",
       "      <td>Siaka_Mixed</td>\n",
       "      <td>3.500000</td>\n",
       "      <td>2.680222</td>\n",
       "      <td>2.955184</td>\n",
       "      <td>3.285327</td>\n",
       "      <td>Bungoma</td>\n",
       "    </tr>\n",
       "    <tr>\n",
       "      <th>16</th>\n",
       "      <td>Kibabii_Mixed</td>\n",
       "      <td>3.800000</td>\n",
       "      <td>2.856663</td>\n",
       "      <td>3.330477</td>\n",
       "      <td>3.020757</td>\n",
       "      <td>Bungoma</td>\n",
       "    </tr>\n",
       "    <tr>\n",
       "      <th>17</th>\n",
       "      <td>Mabuusi_Mixed</td>\n",
       "      <td>3.400000</td>\n",
       "      <td>2.766679</td>\n",
       "      <td>2.689427</td>\n",
       "      <td>2.764139</td>\n",
       "      <td>Bungoma</td>\n",
       "    </tr>\n",
       "    <tr>\n",
       "      <th>18</th>\n",
       "      <td>Mateka_Mixed</td>\n",
       "      <td>3.000000</td>\n",
       "      <td>2.166824</td>\n",
       "      <td>2.549136</td>\n",
       "      <td>2.341487</td>\n",
       "      <td>Bungoma</td>\n",
       "    </tr>\n",
       "    <tr>\n",
       "      <th>19</th>\n",
       "      <td>Namboko_Mixed</td>\n",
       "      <td>3.200000</td>\n",
       "      <td>2.243668</td>\n",
       "      <td>2.598456</td>\n",
       "      <td>2.292394</td>\n",
       "      <td>Bungoma</td>\n",
       "    </tr>\n",
       "  </tbody>\n",
       "</table>\n",
       "</div>"
      ],
      "text/plain": [
       "                   SCHOOL  GRADE_POINTS  Attitude  \\\n",
       "0          Budokomi_Mixed      2.143836  1.687070   \n",
       "1            Kaudha_Mixed      2.227907  1.634772   \n",
       "2           Magunga_Mixed      2.804627  2.304378   \n",
       "3            Malele_Mixed      2.055394  1.813752   \n",
       "4          Nyalunya_Mixed      1.482353  1.000000   \n",
       "5             Ojola_Mixed      1.666667  1.116935   \n",
       "6            Rapogi_Mixed      2.699984  2.397708   \n",
       "7          Babadogo_Mixed      3.500000  2.946166   \n",
       "8             Lions_Mixed      5.984323  4.906105   \n",
       "9             Ndori_Mixed      2.509670  2.021283   \n",
       "10  A.C.K Chang'ara_Mixed      2.200000  1.544946   \n",
       "11    St. Augustine_Mixed      3.700000  2.877233   \n",
       "12  St.Luke Odiado_ Mixed      2.500000  1.952572   \n",
       "13           Hakati_Mixed      3.400000  2.321173   \n",
       "14     St. Aterait_ Mixed      2.700000  1.736896   \n",
       "15            Siaka_Mixed      3.500000  2.680222   \n",
       "16          Kibabii_Mixed      3.800000  2.856663   \n",
       "17          Mabuusi_Mixed      3.400000  2.766679   \n",
       "18           Mateka_Mixed      3.000000  2.166824   \n",
       "19          Namboko_Mixed      3.200000  2.243668   \n",
       "\n",
       "    Availability of learning materials  IN-SERVICE TRAINING   COUNTY  \n",
       "0                             1.235119             1.588750    Busia  \n",
       "1                             1.727241             1.615507    Siaya  \n",
       "2                             2.097824             1.891766   Kisumu  \n",
       "3                             1.373762             1.425017    Siaya  \n",
       "4                             1.122335             1.000000    Siaya  \n",
       "5                             1.369963             1.003307    Siaya  \n",
       "6                             2.268121             2.049608   Kisumu  \n",
       "7                             2.624836             2.873489  Nairobi  \n",
       "8                             4.938158             5.000000   Kisumu  \n",
       "9                             1.979024             1.947687    Siaya  \n",
       "10                            1.832738             1.689139    Busia  \n",
       "11                            2.874544             2.955490    Busia  \n",
       "12                            1.867047             1.520425    Busia  \n",
       "13                            2.482562             2.698526    Busia  \n",
       "14                            1.842638             2.093925    Busia  \n",
       "15                            2.955184             3.285327  Bungoma  \n",
       "16                            3.330477             3.020757  Bungoma  \n",
       "17                            2.689427             2.764139  Bungoma  \n",
       "18                            2.549136             2.341487  Bungoma  \n",
       "19                            2.598456             2.292394  Bungoma  "
      ]
     },
     "execution_count": 17,
     "metadata": {},
     "output_type": "execute_result"
    }
   ],
   "source": [
    "# import necessary libraries\n",
    "import pandas as pd\n",
    "import numpy as np\n",
    "import matplotlib.pyplot as plt\n",
    "import seaborn as sns\n",
    "import statsmodels.api as sm\n",
    "means_data=pd.read_csv(\"mean_data.csv\")\n",
    "means_data.head(20)\n"
   ]
  },
  {
   "cell_type": "markdown",
   "id": "8ec24d98",
   "metadata": {},
   "source": [
    "### Perform correlations"
   ]
  },
  {
   "cell_type": "markdown",
   "id": "a1e18b49",
   "metadata": {},
   "source": [
    "#### Correlation between Attitude and Performance"
   ]
  },
  {
   "cell_type": "code",
   "execution_count": 11,
   "id": "fe5692f1",
   "metadata": {},
   "outputs": [
    {
     "name": "stdout",
     "output_type": "stream",
     "text": [
      "0.9777864772130201\n"
     ]
    }
   ],
   "source": [
    "corr_Attitude=means_data[\"GRADE_POINTS\"].corr(means_data[\"Attitude\"])\n",
    "print(corr_Attitude)"
   ]
  },
  {
   "cell_type": "markdown",
   "id": "890a3360",
   "metadata": {},
   "source": [
    "#### Correlation between Availability of learning materials and Performance"
   ]
  },
  {
   "cell_type": "code",
   "execution_count": 12,
   "id": "81abb794",
   "metadata": {},
   "outputs": [
    {
     "name": "stdout",
     "output_type": "stream",
     "text": [
      "0.9776366234629129\n"
     ]
    }
   ],
   "source": [
    "corr_Materials=means_data[\"GRADE_POINTS\"].corr(means_data[\"Availability of learning materials\"])\n",
    "print(corr_Materials)"
   ]
  },
  {
   "cell_type": "markdown",
   "id": "78b2345d",
   "metadata": {},
   "source": [
    "#### Correlation between IN-SERVICE TRAINING and Performance"
   ]
  },
  {
   "cell_type": "code",
   "execution_count": 13,
   "id": "e2dd2b12",
   "metadata": {},
   "outputs": [
    {
     "name": "stdout",
     "output_type": "stream",
     "text": [
      "0.9755974550763188\n"
     ]
    }
   ],
   "source": [
    "corr_Inservice=means_data[\"GRADE_POINTS\"].corr(means_data[\"IN-SERVICE TRAINING\"])\n",
    "print(corr_Inservice)"
   ]
  },
  {
   "cell_type": "markdown",
   "id": "31950eff",
   "metadata": {},
   "source": [
    "### PERFORMING CORRELATION MATRIX"
   ]
  },
  {
   "cell_type": "code",
   "execution_count": 14,
   "id": "45ff057d",
   "metadata": {},
   "outputs": [
    {
     "data": {
      "text/plain": [
       "<Axes: >"
      ]
     },
     "execution_count": 14,
     "metadata": {},
     "output_type": "execute_result"
    },
    {
     "data": {
      "image/png": "[encoded data removed]",
      "text/plain": [
       "<Figure size 640x480 with 2 Axes>"
      ]
     },
     "metadata": {},
     "output_type": "display_data"
    }
   ],
   "source": [
    "# correlation matrix\n",
    "numerical_columns=means_data[[\"GRADE_POINTS\",\"Attitude\",\"Availability of learning materials\",\"IN-SERVICE TRAINING\"]]\n",
    "sns.heatmap(numerical_columns.corr(),annot=True,cmap=\"viridis\")"
   ]
  },
  {
   "cell_type": "markdown",
   "id": "4555ad4e",
   "metadata": {},
   "source": [
    "- From the above results, all the predictors show a strong positive correlation with student performance. This clearly indicates that good performance in mathematics strongly depends on student attitude, availability of learning resources, and teacher qualifications-which  enhance the quality of content delivery."
   ]
  },
  {
   "cell_type": "markdown",
   "id": "a0e3f248",
   "metadata": {},
   "source": [
    "### REGRESSION"
   ]
  },
  {
   "cell_type": "markdown",
   "id": "afae3be2",
   "metadata": {},
   "source": [
    "### Hypothesis Testing\n",
    "- This study sought to test whether student attitude, availability of learning materials, and teacher in-service training significantly influence students’ grade points in mathematics.\n",
    "#### Hull hypothesis\n",
    "- H₀₁: Student attitude has no significant effect on mathematics grade points.\n",
    "\n",
    "- H₀₂: Availability of learning materials has no significant effect on mathematics grade points.\n",
    "\n",
    "- H₀₃: Teacher in-service training has no significant effect on mathematics grade points.\n",
    "#### Alternative Hypothesis\n",
    "- H₁₁: Student attitude significantly affects mathematics grade points.\n",
    "\n",
    "- H₁₂: Availability of learning materials significantly affects mathematics grade points.\n",
    "\n",
    "- H₁₃: Teacher in-service training significantly affects mathematics grade points.\n"
   ]
  },
  {
   "cell_type": "markdown",
   "id": "61039931",
   "metadata": {},
   "source": [
    "### Decision Criteria:\n",
    "\n",
    "- At a 5% significance level (α = 0.05), the null hypothesis is rejected if the p-value < 0.05."
   ]
  },
  {
   "cell_type": "code",
   "execution_count": 15,
   "id": "70f8c8b8",
   "metadata": {},
   "outputs": [],
   "source": [
    "# define  model variables\n",
    "X=means_data[[\"Attitude\",\"Availability of learning materials\",\"IN-SERVICE TRAINING\"]]\n",
    "Y=means_data[\"GRADE_POINTS\"]\n",
    "# adding y_intercept\n",
    "X=sm.add_constant(X)\n",
    "model=sm.OLS(Y,X).fit()"
   ]
  },
  {
   "cell_type": "markdown",
   "id": "f971f87d",
   "metadata": {},
   "source": [
    "RESULT SUMMARY"
   ]
  },
  {
   "cell_type": "code",
   "execution_count": 16,
   "id": "2641e7d7",
   "metadata": {},
   "outputs": [
    {
     "name": "stdout",
     "output_type": "stream",
     "text": [
      "                            OLS Regression Results                            \n",
      "==============================================================================\n",
      "Dep. Variable:           GRADE_POINTS   R-squared:                       0.984\n",
      "Model:                            OLS   Adj. R-squared:                  0.983\n",
      "Method:                 Least Squares   F-statistic:                     929.6\n",
      "Date:                Wed, 27 Aug 2025   Prob (F-statistic):           1.78e-40\n",
      "Time:                        08:28:17   Log-Likelihood:                 33.983\n",
      "No. Observations:                  49   AIC:                            -59.97\n",
      "Df Residuals:                      45   BIC:                            -52.40\n",
      "Df Model:                           3                                         \n",
      "Covariance Type:            nonrobust                                         \n",
      "======================================================================================================\n",
      "                                         coef    std err          t      P>|t|      [0.025      0.975]\n",
      "------------------------------------------------------------------------------------------------------\n",
      "const                                  0.3672      0.061      6.069      0.000       0.245       0.489\n",
      "Attitude                               0.4627      0.076      6.065      0.000       0.309       0.616\n",
      "Availability of learning materials     0.3679      0.087      4.250      0.000       0.194       0.542\n",
      "IN-SERVICE TRAINING                    0.2999      0.087      3.454      0.001       0.125       0.475\n",
      "==============================================================================\n",
      "Omnibus:                        1.038   Durbin-Watson:                   2.239\n",
      "Prob(Omnibus):                  0.595   Jarque-Bera (JB):                0.978\n",
      "Skew:                           0.160   Prob(JB):                        0.613\n",
      "Kurtosis:                       2.387   Cond. No.                         30.6\n",
      "==============================================================================\n",
      "\n",
      "Notes:\n",
      "[1] Standard Errors assume that the covariance matrix of the errors is correctly specified.\n"
     ]
    }
   ],
   "source": [
    "print(model.summary())"
   ]
  },
  {
   "cell_type": "markdown",
   "id": "2883aa32",
   "metadata": {},
   "source": [
    "### Results\n",
    "\n",
    "- Attitude (coeff = 0.4627, t = 6.07, p < 0.001) → Reject H₀₁. Attitude has a significant positive effect.\n",
    "\n",
    "- Availability of learning materials (coeff = 0.3679, t = 4.25, p < 0.001) → Reject H₀₂. Availability - significantly improves performance.\n",
    "\n",
    "- In-service training (coeff= 0.2999, t = 3.45, p = 0.001) → Reject H₀₃. Training has a significant positive impact."
   ]
  },
  {
   "cell_type": "markdown",
   "id": "fbaed388",
   "metadata": {},
   "source": []
  }
 ],
 "metadata": {
  "kernelspec": {
   "display_name": "Python 3",
   "language": "python",
   "name": "python3"
  },
  "language_info": {
   "codemirror_mode": {
    "name": "ipython",
    "version": 3
   },
   "file_extension": ".py",
   "mimetype": "text/x-python",
   "name": "python",
   "nbconvert_exporter": "python",
   "pygments_lexer": "ipython3",
   "version": "3.13.5"
  }
 },
 "nbformat": 4,
 "nbformat_minor": 5
}
